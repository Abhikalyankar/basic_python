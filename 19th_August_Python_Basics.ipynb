{
 "cells": [
  {
   "cell_type": "markdown",
   "id": "651c1bac-6fd0-443b-940f-dbf2404bf2c4",
   "metadata": {},
   "source": [
    "# 19th_August_Python_Basics\n"
   ]
  },
  {
   "cell_type": "markdown",
   "id": "4b1f6bad-9823-4fb8-8a5f-1a494393d7bc",
   "metadata": {},
   "source": [
    "# Python Basics Variable"
   ]
  },
  {
   "cell_type": "markdown",
   "id": "79f53fe4-66fc-41c4-b1e7-44cad55d5e1c",
   "metadata": {},
   "source": [
    "### Swap the values"
   ]
  },
  {
   "cell_type": "code",
   "execution_count": 2,
   "id": "d3f0a5a1-2639-41b7-a42b-40e1b74bb52f",
   "metadata": {},
   "outputs": [
    {
     "name": "stdout",
     "output_type": "stream",
     "text": [
      "5\n",
      "10\n"
     ]
    }
   ],
   "source": [
    "a = 10\n",
    "b = 5\n",
    "a = a+b\n",
    "b = a-b\n",
    "a = a-b\n",
    "print(a)\n",
    "print(b)"
   ]
  },
  {
   "cell_type": "markdown",
   "id": "26ffc524-6990-49a8-9113-ae215524f3d1",
   "metadata": {},
   "source": [
    "### Area of a rectangle"
   ]
  },
  {
   "cell_type": "code",
   "execution_count": 12,
   "id": "e9b03916-0b29-416a-8077-2b3a2982b3b4",
   "metadata": {},
   "outputs": [
    {
     "name": "stdin",
     "output_type": "stream",
     "text": [
      "Enter lenght: 25\n",
      "Enter width: 15\n"
     ]
    },
    {
     "name": "stdout",
     "output_type": "stream",
     "text": [
      "375\n"
     ]
    }
   ],
   "source": [
    "length =int( input(\"Enter lenght:\"))\n",
    "Width  =int( input(\"Enter width:\"))\n",
    "Area = length * Width\n",
    "print(Area)"
   ]
  },
  {
   "cell_type": "markdown",
   "id": "2f04ca3f-344b-4afd-826e-7652b357c5ab",
   "metadata": {},
   "source": [
    "### Celsius to Fahrenheit\n"
   ]
  },
  {
   "cell_type": "code",
   "execution_count": 20,
   "id": "20fa3a7d-3fe1-458d-8a55-ba62e6ad2251",
   "metadata": {},
   "outputs": [
    {
     "name": "stdin",
     "output_type": "stream",
     "text": [
      "Enter Celsius: 1\n"
     ]
    },
    {
     "name": "stdout",
     "output_type": "stream",
     "text": [
      "Fahrenheit: 33.8\n"
     ]
    }
   ],
   "source": [
    "Celsius = int(input(\"Enter Celsius:\"))\n",
    "Fahrenheit = (Celsius * 1.8) + 32\n",
    "print(\"Fahrenheit:\", Fahrenheit)"
   ]
  },
  {
   "cell_type": "code",
   "execution_count": null,
   "id": "0d62891a-471d-40ca-a490-bb6d0c16c21c",
   "metadata": {},
   "outputs": [],
   "source": []
  },
  {
   "cell_type": "markdown",
   "id": "e8fead58-5822-4ee9-bc1f-e69767d6bea9",
   "metadata": {},
   "source": [
    "# String Based Questions"
   ]
  },
  {
   "cell_type": "code",
   "execution_count": 22,
   "id": "74bd52a7-f887-478e-9e4a-7f924621ab7b",
   "metadata": {},
   "outputs": [],
   "source": [
    "# Write a Python program that takes a string as input and prints the length of the string."
   ]
  },
  {
   "cell_type": "code",
   "execution_count": 26,
   "id": "caf87411-a70e-4c7a-b050-76f19342b045",
   "metadata": {},
   "outputs": [
    {
     "name": "stdin",
     "output_type": "stream",
     "text": [
      "Enter a String: abhi\n"
     ]
    },
    {
     "name": "stdout",
     "output_type": "stream",
     "text": [
      "4\n"
     ]
    }
   ],
   "source": [
    "a = input(\"Enter a String:\")\n",
    "length = len(a)\n",
    "print(length)"
   ]
  },
  {
   "cell_type": "code",
   "execution_count": null,
   "id": "6102412a-af20-4dad-a235-b8e0721042ac",
   "metadata": {},
   "outputs": [],
   "source": []
  },
  {
   "cell_type": "code",
   "execution_count": null,
   "id": "7b020214-1e3b-42a2-b177-aa5ac27822b7",
   "metadata": {},
   "outputs": [],
   "source": [
    "# Create a program that takes a sentence from the user and counts the number of vowels (a, e, i, o, u) in the string."
   ]
  },
  {
   "cell_type": "code",
   "execution_count": 29,
   "id": "e65fed76-95f8-41c8-9604-ea029975af7e",
   "metadata": {},
   "outputs": [
    {
     "name": "stdin",
     "output_type": "stream",
     "text": [
      "Enter a Sentence: abhi\n"
     ]
    },
    {
     "name": "stdout",
     "output_type": "stream",
     "text": [
      "Number of vowels: 2\n"
     ]
    }
   ],
   "source": [
    "a = input(\"Enter a Sentence:\")\n",
    "vowels = \"aeiou\"\n",
    "count = sum(1 for char in a if char in vowels)\n",
    "print(\"Number of vowels:\" ,count)"
   ]
  },
  {
   "cell_type": "code",
   "execution_count": null,
   "id": "4c83e4be-670d-4ca0-bb58-baf2dbb799ad",
   "metadata": {},
   "outputs": [],
   "source": []
  },
  {
   "cell_type": "code",
   "execution_count": 30,
   "id": "768ff1b4-cde9-4864-afa8-f9d494fadcf5",
   "metadata": {},
   "outputs": [],
   "source": [
    "# Given a string, reverse the order of characters using string slicing and print the reversed string."
   ]
  },
  {
   "cell_type": "code",
   "execution_count": 32,
   "id": "a206a167-08ff-4c01-92d0-11130f9778c8",
   "metadata": {},
   "outputs": [
    {
     "name": "stdin",
     "output_type": "stream",
     "text": [
      "Enter a String: abhi\n"
     ]
    },
    {
     "name": "stdout",
     "output_type": "stream",
     "text": [
      "ihba\n"
     ]
    }
   ],
   "source": [
    "a = input(\"Enter a String:\")\n",
    "b = a[::-1]\n",
    "print(b)"
   ]
  },
  {
   "cell_type": "code",
   "execution_count": null,
   "id": "26ea548b-58a0-4fab-8d0f-c05b10f2d514",
   "metadata": {},
   "outputs": [],
   "source": []
  },
  {
   "cell_type": "code",
   "execution_count": null,
   "id": "a3660eea-3874-43b7-9067-4628fd935d1c",
   "metadata": {},
   "outputs": [],
   "source": [
    "# Write a program that takes a string as input and checks if it is a palindrome"
   ]
  },
  {
   "cell_type": "code",
   "execution_count": 4,
   "id": "a4beebf2-a135-47a5-9888-f9d3f3668ae4",
   "metadata": {},
   "outputs": [
    {
     "name": "stdin",
     "output_type": "stream",
     "text": [
      "Enter a String: anna\n"
     ]
    },
    {
     "name": "stdout",
     "output_type": "stream",
     "text": [
      "Palindrome\n"
     ]
    }
   ],
   "source": [
    "a = input(\"Enter a String:\")\n",
    "b = a[::-1]\n",
    "if a == b:\n",
    "    print(\"Palindrome\")\n",
    "else:\n",
    "    print(\"Not Palindrome\")"
   ]
  },
  {
   "cell_type": "code",
   "execution_count": 5,
   "id": "4855a6fb-cac8-4654-875a-6aacfed84d24",
   "metadata": {},
   "outputs": [],
   "source": [
    "# Create a program that takes a string as input and removes all the spaces from it. Print the modified string without spaces."
   ]
  },
  {
   "cell_type": "code",
   "execution_count": 12,
   "id": "94791ddc-99dc-4b7e-8d19-e4299dd74b89",
   "metadata": {},
   "outputs": [
    {
     "name": "stdin",
     "output_type": "stream",
     "text": [
      "Enter a String: abhi is a good boy\n"
     ]
    },
    {
     "name": "stdout",
     "output_type": "stream",
     "text": [
      "abhiisagoodboy\n"
     ]
    }
   ],
   "source": [
    "original = input(\"Enter a String:\")\n",
    "modified = a.replace(\" \", \"\")\n",
    "print(modified)"
   ]
  },
  {
   "cell_type": "code",
   "execution_count": null,
   "id": "05329b90-7e86-461e-a127-dae703402f1c",
   "metadata": {},
   "outputs": [],
   "source": []
  }
 ],
 "metadata": {
  "kernelspec": {
   "display_name": "Python 3 (ipykernel)",
   "language": "python",
   "name": "python3"
  },
  "language_info": {
   "codemirror_mode": {
    "name": "ipython",
    "version": 3
   },
   "file_extension": ".py",
   "mimetype": "text/x-python",
   "name": "python",
   "nbconvert_exporter": "python",
   "pygments_lexer": "ipython3",
   "version": "3.10.8"
  }
 },
 "nbformat": 4,
 "nbformat_minor": 5
}
